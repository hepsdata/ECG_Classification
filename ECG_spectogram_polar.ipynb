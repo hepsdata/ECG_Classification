{
 "cells": [
  {
   "cell_type": "code",
   "execution_count": null,
   "metadata": {},
   "outputs": [],
   "source": [
    "import numpy as np\n",
    "import scipy as sc\n",
    "from scipy import signal\n"
   ]
  },
  {
   "cell_type": "code",
   "execution_count": null,
   "metadata": {},
   "outputs": [],
   "source": [
    "import wfdb\n",
    "import matplotlib.pyplot as plt\n",
    "from scipy.signal import spectrogram\n",
    "from scipy.signal import periodogram\n",
    "import numpy as np\n",
    "from scipy import signal\n",
    "import pandas as pd\n",
    "\n",
    "# # 파일 경로 설정\n",
    "# record_name = 'A00001'  # 파일의 경로를 제외한 기본 이름\n",
    "directory_path = './training2017/'  # 필요한 경우 실제 파일 경로를 지정하세요.\n",
    "\n",
    "# CSV 파일의 경로 지정\n",
    "file_path = directory_path+'REFERENCE-original.csv'\n",
    "\n",
    "# 파일 불러오기\n",
    "data = pd.read_csv(file_path, header=None, names=['ID', 'Label'])\n",
    "# 불러온 데이터의 처음 몇 줄을 출력\n"
   ]
  },
  {
   "cell_type": "code",
   "execution_count": null,
   "metadata": {},
   "outputs": [],
   "source": [
    "data"
   ]
  },
  {
   "cell_type": "code",
   "execution_count": null,
   "metadata": {},
   "outputs": [],
   "source": [
    "label_set = set(data['Label'])"
   ]
  },
  {
   "cell_type": "code",
   "execution_count": null,
   "metadata": {},
   "outputs": [],
   "source": [
    "if 'A' in label_set:\n",
    "    print(True)"
   ]
  },
  {
   "cell_type": "code",
   "execution_count": null,
   "metadata": {},
   "outputs": [],
   "source": [
    "import os\n",
    "\n",
    "path = \"./spectrogram_img\"\n",
    "os.makedirs(path, exist_ok=True)\n",
    "\n",
    "for label in label_set:\n",
    "    sub_path = os.path.join(path, label)\n",
    "    os.makedirs(sub_path, exist_ok=True)"
   ]
  },
  {
   "cell_type": "code",
   "execution_count": null,
   "metadata": {},
   "outputs": [],
   "source": [
    "def data_read(record_name, directory_path = directory_path):\n",
    "    # 데이터 로드\n",
    "    record = wfdb.rdrecord(f\"{directory_path}/{record_name}\")\n",
    "    signal = record.p_signal\n",
    "    \n",
    "    fs = record.fs\n",
    "    return signal, fs"
   ]
  },
  {
   "cell_type": "code",
   "execution_count": null,
   "metadata": {},
   "outputs": [],
   "source": [
    "import scipy.signal as sp_signal\n",
    "\n",
    "def spectrogram(data, nperseg=64, noverlap=32, log_spectrogram = True):\n",
    "    fs = 300\n",
    "    f, t, Sxx = sp_signal.spectrogram(data, fs=fs, nperseg=nperseg, noverlap=noverlap)\n",
    "    Sxx = np.transpose(Sxx,[0,2,1])\n",
    "    if log_spectrogram == True:\n",
    "        Sxx = abs(Sxx) # Make sure, all values are positive before taking log\n",
    "        mask = Sxx > 0 # We dont want to take the log of zero\n",
    "        Sxx[mask] = np.log(Sxx[mask])\n",
    "    return f, t, Sxx"
   ]
  },
  {
   "cell_type": "code",
   "execution_count": null,
   "metadata": {},
   "outputs": [],
   "source": [
    "import cv2\n",
    "def cartesian_to_polar(img):\n",
    "    height, width = img.shape[:2]\n",
    "\n",
    "    max_radius = height\n",
    "    output_size = 2 * max_radius\n",
    "\n",
    "    center = output_size // 2\n",
    "\n",
    "    # 2r x 2r 크기의 극 좌표 이미지 생성\n",
    "    polar_img = np.zeros((output_size, output_size, 3), dtype=np.uint8) if len(img.shape) == 3 else np.zeros((output_size, output_size), dtype=np.uint8)\n",
    "\n",
    "    for i in range(output_size):\n",
    "        for j in range(output_size):\n",
    "            dx = j - center\n",
    "            dy = center - i\n",
    "\n",
    "            r = np.sqrt(dx*dx + dy*dy)\n",
    "            theta = (np.arctan2(dy, dx) + np.pi) % (2 * np.pi)  # 0 to 2pi\n",
    "\n",
    "            theta_idx = int(theta / (2 * np.pi) * width)\n",
    "            r_idx = int(r)\n",
    "\n",
    "            if 0 <= r_idx < height:\n",
    "                polar_img[i, j] = img[r_idx, theta_idx]\n",
    "\n",
    "    # 보간 처리\n",
    "    mask = polar_img[:, :] > 0\n",
    "    polar_img = cv2.inpaint(polar_img, np.uint8(~mask), inpaintRadius=1, flags=cv2.INPAINT_TELEA)\n",
    "\n",
    "    # 극 좌표 이미지를 256x256 크기로 리사이즈\n",
    "    polar_img = cv2.resize(polar_img, (256, 256), interpolation=cv2.INTER_LINEAR)\n",
    "\n",
    "    return polar_img"
   ]
  },
  {
   "cell_type": "code",
   "execution_count": null,
   "metadata": {},
   "outputs": [],
   "source": [
    "import cv2\n",
    "# import numpy as np\n",
    "# def cartesian_to_polar(img, output_size=(256, 256)):\n",
    "#     height, width = img.shape[:2]\n",
    "\n",
    "#     max_radius = height\n",
    "#     output_size = (output_size[0], output_size[1])  # 새로운 출력 크기\n",
    "\n",
    "#     center = output_size[0] // 2\n",
    "\n",
    "#     # 2r x 2r 크기의 극 좌표 이미지 생성\n",
    "#     polar_img = np.zeros((output_size[0], output_size[1], 3), dtype=np.uint8) if len(img.shape) == 3 else np.zeros((output_size[0], output_size[1]), dtype=np.uint8)\n",
    "\n",
    "#     for i in range(output_size[0]):\n",
    "#         for j in range(output_size[1]):\n",
    "#             dx = j - center\n",
    "#             dy = center - i\n",
    "\n",
    "#             r = np.sqrt(dx*dx + dy*dy)\n",
    "#             theta = (np.arctan2(dy, dx) + np.pi) % (2 * np.pi)  # 0 to 2pi\n",
    "\n",
    "#             theta_idx = int(theta / (2 * np.pi) * width)\n",
    "#             r_idx = int(r)\n",
    "\n",
    "#             if 0 <= r_idx < height:\n",
    "#                 polar_img[i, j] = img[r_idx, theta_idx]\n",
    "\n",
    "#     # 보간 처리\n",
    "#     mask = polar_img[:, :] > 0\n",
    "#     polar_img = cv2.inpaint(polar_img, np.uint8(~mask), inpaintRadius=1, flags=cv2.INPAINT_TELEA)\n",
    "\n",
    "#     # 극 좌표 이미지를 256x256 크기로 리사이즈\n",
    "#     polar_img = cv2.resize(polar_img, (256, 256), interpolation=cv2.INTER_LINEAR)\n",
    "\n",
    "#     return polar_img\n"
   ]
  },
  {
   "cell_type": "code",
   "execution_count": null,
   "metadata": {},
   "outputs": [],
   "source": [
    "def plot_fourier_transform(image):\n",
    "    # 2D 푸리에 변환\n",
    "    f_transform = np.fft.fft2(image)\n",
    "    \n",
    "    # 중심 이동\n",
    "    f_transform_shifted = np.fft.fftshift(f_transform)\n",
    "    \n",
    "    # 로그 스케일로 변환\n",
    "    magnitude_spectrum = np.log(np.abs(f_transform_shifted) + 1)\n",
    "    \n",
    "    # 결과 시각화\n",
    "    plt.imshow(magnitude_spectrum, cmap='gray')\n",
    "    plt.title('Magnitude Spectrum')\n",
    "    plt.colorbar()\n",
    "    plt.show()"
   ]
  },
  {
   "cell_type": "code",
   "execution_count": null,
   "metadata": {},
   "outputs": [],
   "source": [
    "import scipy.signal as sp_signal\n",
    "\n",
    "visual = 0\n",
    "i = 0 \n",
    "for fname, label in zip(data['ID'], data['Label']):\n",
    "\n",
    "    # print(fname)\n",
    "    if i == 0:\n",
    "        signal, fs = data_read(fname)\n",
    "        ts = signal[:,0]\n",
    "        time = np.arange(0, len(ts))/fs\n",
    "\n",
    "        # Now, let's create the combined plot\n",
    "        \n",
    "        if visual == 0:\n",
    "            fig, axes = plt.subplots(4, 1, figsize=(15, 20))  # Adjust the figure size if needed\n",
    "        # ECG time series\n",
    "            axes[0].plot(time, ts, 'b')\n",
    "            axes[0].set(xlabel='Time [s]', xlim=[0, time[-1]], xticks=np.arange(0, time[-1]+5, 10))\n",
    "            axes[0].set(ylabel='Potential [mV]')\n",
    "            axes[0].set_title('ECG Time Series', fontsize=15)\n",
    "\n",
    "\n",
    "        f1, PSD = sp_signal.periodogram(ts, fs, 'flattop', scaling='density')\n",
    "        if visual == 0:\n",
    "            axes[1].plot(f1, PSD, 'b')\n",
    "            axes[1].set(xlabel='Frequency [Hz]', ylabel='PSD')\n",
    "            axes[1].set_title('Power Spectral Density (PSD)', fontsize=15)\n",
    "\n",
    "        # Spectrogram without log transform\n",
    "\n",
    "        # Convert ECG into spectrograms without and with log transform\n",
    "        Sx = spectrogram(np.expand_dims(ts, axis = 0), log_spectrogram = False)[2]\n",
    "        Sx_log = spectrogram(np.expand_dims(ts, axis = 0), log_spectrogram = True)[2]\n",
    "\n",
    "        # Get the frequency and time axes\n",
    "        f, t, _ = spectrogram(np.expand_dims(ts, axis = 0), log_spectrogram = False) \n",
    "        if visual == 0:\n",
    "            axes[2].imshow(np.transpose(Sx[0]), aspect='auto', cmap='jet', origin='lower')\n",
    "            axes[2].set_title('Spectrogram without log transform', fontsize=15)\n",
    "            axes[2].set(xlabel='Time [s]', ylabel='Frequency [Hz]')\n",
    "        \n",
    "            axes[3].imshow(np.transpose(Sx_log[0]), aspect='auto', cmap='jet', origin='lower')\n",
    "            axes[3].set_title('Spectrogram with log transform', fontsize=15)\n",
    "            axes[3].set(xlabel='Time [s]', ylabel='Frequency [Hz]')\n",
    "\n",
    "            # Main title for the entire figure\n",
    "            fig.suptitle(label + '_' + fname, fontsize=20, y=1.02)\n",
    "            fig.savefig( path + '/'+ label + '/' + fname + '_monitor.png')\n",
    "            plt.tight_layout()\n",
    "            plt.show()\n",
    "\n",
    "        spectrogram_image_data = np.transpose(Sx[0])\n",
    "        log_spectrogram_image_data = np.transpose(Sx_log[0])\n",
    "        # plt.imsave( label + '_' + fname + '_spectrogram.png', spectrogram_image_data, cmap='jet')\n",
    "        plt.imsave( path + '/'+ label + '/' + fname + '_log_spectrogram.png', log_spectrogram_image_data, cmap='jet')\n",
    "\n",
    "        polar_img = cartesian_to_polar(np.flipud(log_spectrogram_image_data))\n",
    "        # polar_img_2d = np.squeeze(polar_img)  # 차원이 1인 경우 제거\n",
    "\n",
    "        print(log_spectrogram_image_data.shape)\n",
    "        plt.imsave(path + '/' + label + '/' + fname + '_polar.png', polar_img, cmap='jet')\n",
    "\n",
    "        plot_fourier_transform(polar_img)\n",
    "\n",
    "    i+=0"
   ]
  },
  {
   "cell_type": "code",
   "execution_count": null,
   "metadata": {},
   "outputs": [],
   "source": [
    "log_spectrogram_image_data"
   ]
  },
  {
   "cell_type": "code",
   "execution_count": null,
   "metadata": {},
   "outputs": [],
   "source": [
    "np.any(log_spectrogram_image_data > 0)"
   ]
  },
  {
   "cell_type": "code",
   "execution_count": null,
   "metadata": {},
   "outputs": [],
   "source": [
    "# 최소 값을 찾아서 모든 값에 더함\n",
    "offset_value = np.abs(np.min(log_spectrogram_image_data))\n",
    "positive_data = log_spectrogram_image_data + offset_value\n",
    "\n",
    "# 시각화\n",
    "plt.imshow(log_spectrogram_image_data, cmap='jet')\n",
    "plt.colorbar()\n",
    "plt.show()"
   ]
  },
  {
   "cell_type": "code",
   "execution_count": null,
   "metadata": {},
   "outputs": [],
   "source": [
    "plt.imshow(positive_data, cmap='jet')\n",
    "plt.colorbar()\n",
    "plt.show()"
   ]
  },
  {
   "cell_type": "code",
   "execution_count": null,
   "metadata": {},
   "outputs": [],
   "source": [
    "# https://github.com/mikgroup/sigpy-mri-tutorial/blob/master/01-gridding-reconstruction.ipynb"
   ]
  }
 ],
 "metadata": {
  "kernelspec": {
   "display_name": "ecg",
   "language": "python",
   "name": "python3"
  },
  "language_info": {
   "codemirror_mode": {
    "name": "ipython",
    "version": 3
   },
   "file_extension": ".py",
   "mimetype": "text/x-python",
   "name": "python",
   "nbconvert_exporter": "python",
   "pygments_lexer": "ipython3",
   "version": "3.10.11"
  },
  "orig_nbformat": 4
 },
 "nbformat": 4,
 "nbformat_minor": 2
}
